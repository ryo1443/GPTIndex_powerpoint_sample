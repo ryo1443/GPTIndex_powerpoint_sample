{
 "cells": [
  {
   "cell_type": "code",
   "execution_count": null,
   "metadata": {},
   "outputs": [],
   "source": [
    "!pip install gpt_index\n",
    "!pip install python-pptx\n",
    "!pip install openai"
   ]
  },
  {
   "cell_type": "code",
   "execution_count": null,
   "metadata": {},
   "outputs": [],
   "source": [
    "from gpt_index.readers.file.slides_parser import PptxParser\n",
    "import os\n",
    "import openai\n",
    "\n",
    "os.environ[\"OPENAI_API_KEY\"] = \"your api key\""
   ]
  },
  {
   "cell_type": "code",
   "execution_count": null,
   "metadata": {},
   "outputs": [],
   "source": [
    "parser = PptxParser()\n",
    "parser.init_parser()\n",
    "result = parser.parse_file(\"/content/メタバースとは？.pptx\")"
   ]
  },
  {
   "cell_type": "code",
   "execution_count": null,
   "metadata": {},
   "outputs": [],
   "source": [
    "print(result)"
   ]
  },
  {
   "cell_type": "code",
   "execution_count": null,
   "metadata": {},
   "outputs": [],
   "source": [
    "from gpt_index import Document\n",
    "from gpt_index import GPTSimpleVectorIndex\n",
    "\n",
    "documents = [Document(result)]\n",
    "index = GPTSimpleVectorIndex(documents)"
   ]
  },
  {
   "cell_type": "code",
   "execution_count": null,
   "metadata": {},
   "outputs": [],
   "source": [
    "prefix = \"\"\"\n",
    "あなたはずんだもんです。\n",
    "語尾に「なのだ」と付けて質問の回答をして下さい。\n",
    "\n",
    "質問:\n",
    "\"\"\"\n",
    "\n",
    "saffix = \"\\n回答:\"\n",
    "\n",
    "query = \"3ページ目の内容を5歳児に分かるように説明して\"\n",
    "\n",
    "response = index.query(prefix + query + saffix)\n",
    "print(response)"
   ]
  }
 ],
 "metadata": {
  "language_info": {
   "name": "python"
  },
  "orig_nbformat": 4
 },
 "nbformat": 4,
 "nbformat_minor": 2
}
